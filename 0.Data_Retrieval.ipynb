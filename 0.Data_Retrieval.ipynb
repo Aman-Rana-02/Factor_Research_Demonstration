{
 "cells": [
  {
   "cell_type": "markdown",
   "source": [
    "# Data Retrival\n",
    "This file is a subset of the script from WRDS' replication of the Fama and French (1993) portfolios.\n",
    "I use a shortened and slightly modified version to save a copy of the merged CRSP COMPUSTAT data and the SP500 index.\n",
    "The original can be found here:\n",
    "https://wrds-www.wharton.upenn.edu/pages/wrds-research/applications/python-replications/fama-french-factors-python-ciz-format/"
   ],
   "metadata": {
    "collapsed": false
   },
   "id": "c8d3d8927a286a90"
  },
  {
   "cell_type": "code",
   "outputs": [],
   "source": [
    "##########################################\n",
    "# Fama French 3 Factors-CRSP New Format  #\n",
    "# Qingyi (Freda) Song Drechsler          #\n",
    "# Date: August 2022                      #\n",
    "# Updated:                               #\n",
    "##########################################"
   ],
   "metadata": {
    "collapsed": false
   },
   "id": "cdadb890dfc48ec7"
  },
  {
   "cell_type": "code",
   "outputs": [],
   "source": [
    "import pandas as pd\n",
    "import numpy as np\n",
    "import datetime as dt\n",
    "import wrds\n",
    "#import psycopg2 \n",
    "import matplotlib.pyplot as plt\n",
    "from dateutil.relativedelta import *\n",
    "from pandas.tseries.offsets import *\n",
    "from scipy import stats"
   ],
   "metadata": {
    "collapsed": true,
    "ExecuteTime": {
     "end_time": "2024-11-13T04:23:07.354959Z",
     "start_time": "2024-11-13T04:23:05.327578Z"
    }
   },
   "id": "initial_id",
   "execution_count": 1
  },
  {
   "cell_type": "code",
   "outputs": [
    {
     "name": "stdout",
     "output_type": "stream",
     "text": [
      "WRDS recommends setting up a .pgpass file.\n",
      "Created .pgpass file successfully.\n",
      "You can create this file yourself at any time with the create_pgpass_file() function.\n",
      "Loading library list...\n",
      "Done\n"
     ]
    }
   ],
   "source": [
    "conn = wrds.Connection()"
   ],
   "metadata": {
    "collapsed": false,
    "ExecuteTime": {
     "end_time": "2024-11-13T04:26:17.310027Z",
     "start_time": "2024-11-13T04:26:03.118037Z"
    }
   },
   "id": "53e976567b9ca584",
   "execution_count": 8
  },
  {
   "cell_type": "code",
   "outputs": [],
   "source": [
    "###################\n",
    "# Compustat Block #\n",
    "###################\n",
    "comp = conn.raw_sql(\"\"\"\n",
    "                    select gvkey, datadate, at, pstkl, txditc,\n",
    "                    pstkrv, seq, pstk\n",
    "                    from comp.funda\n",
    "                    where indfmt='INDL' \n",
    "                    and datafmt='STD'\n",
    "                    and popsrc='D'\n",
    "                    and consol='C'\n",
    "                    and datadate >= '01/01/1959'\n",
    "                    \"\"\", date_cols=['datadate'])\n",
    "\n",
    "comp['year']=comp['datadate'].dt.year"
   ],
   "metadata": {
    "collapsed": false,
    "ExecuteTime": {
     "end_time": "2024-11-12T19:21:49.164100Z",
     "start_time": "2024-11-12T19:21:32.554348Z"
    }
   },
   "id": "b6a5a4921ad1b844",
   "execution_count": 34
  },
  {
   "cell_type": "code",
   "outputs": [],
   "source": [
    "# create preferrerd stock\n",
    "comp['ps']=np.where(comp['pstkrv'].isnull(), comp['pstkl'], comp['pstkrv'])\n",
    "comp['ps']=np.where(comp['ps'].isnull(),comp['pstk'], comp['ps'])\n",
    "comp['ps']=np.where(comp['ps'].isnull(),0,comp['ps'])\n",
    "comp['txditc']=comp['txditc'].fillna(0)"
   ],
   "metadata": {
    "collapsed": false,
    "ExecuteTime": {
     "end_time": "2024-11-12T19:21:49.175954Z",
     "start_time": "2024-11-12T19:21:49.165379Z"
    }
   },
   "id": "44c723429a62ac5d",
   "execution_count": 35
  },
  {
   "cell_type": "code",
   "outputs": [],
   "source": [
    "# create book equity\n",
    "comp['be']=comp['seq']+comp['txditc']-comp['ps']\n",
    "comp['be']=np.where(comp['be']>0, comp['be'], np.nan)"
   ],
   "metadata": {
    "collapsed": false,
    "ExecuteTime": {
     "end_time": "2024-11-12T19:21:49.184537Z",
     "start_time": "2024-11-12T19:21:49.178049Z"
    }
   },
   "id": "a81a635542b310f5",
   "execution_count": 36
  },
  {
   "cell_type": "code",
   "outputs": [],
   "source": [
    "# number of years in Compustat\n",
    "comp=comp.sort_values(by=['gvkey','datadate'])\n",
    "comp['count']=comp.groupby(['gvkey']).cumcount()\n",
    "\n",
    "comp=comp[['gvkey','datadate','year','be','count']]"
   ],
   "metadata": {
    "collapsed": false,
    "ExecuteTime": {
     "end_time": "2024-11-12T19:21:49.447706Z",
     "start_time": "2024-11-12T19:21:49.185622Z"
    }
   },
   "id": "f6613eba8f1a154d",
   "execution_count": 37
  },
  {
   "cell_type": "code",
   "outputs": [],
   "source": [
    "###################\n",
    "# CRSP Block      #\n",
    "###################\n",
    "# sql similar to crspmerge macro\n",
    "crsp_m = conn.raw_sql(\"\"\"\n",
    "                      select a.permno, a.permco, a.mthcaldt, \n",
    "                      a.issuertype, a.securitytype, a.securitysubtype, a.sharetype, a.usincflg, \n",
    "                      a.primaryexch, a.conditionaltype, a.tradingstatusflg,\n",
    "                      a.mthret, a.mthretx, a.shrout, a.mthprc\n",
    "                      from crsp.msf_v2 as a\n",
    "                      where a.mthcaldt between '01/01/1959' and '12/31/2024'\n",
    "                      \"\"\", date_cols=['mthcaldt']) "
   ],
   "metadata": {
    "collapsed": false,
    "ExecuteTime": {
     "end_time": "2024-11-12T19:25:08.915520Z",
     "start_time": "2024-11-12T19:21:49.448977Z"
    }
   },
   "id": "28507cc0dc83bc98",
   "execution_count": 38
  },
  {
   "cell_type": "code",
   "outputs": [],
   "source": [
    "crsp_m = crsp_m.loc[(crsp_m.sharetype=='NS') & \\\n",
    "                    (crsp_m.securitytype=='EQTY') & \\\n",
    "                    (crsp_m.securitysubtype=='COM') & \\\n",
    "                    (crsp_m.usincflg=='Y') & \\\n",
    "                    (crsp_m.issuertype.isin(['ACOR', 'CORP']))]"
   ],
   "metadata": {
    "collapsed": false,
    "ExecuteTime": {
     "end_time": "2024-11-12T19:25:12.107628Z",
     "start_time": "2024-11-12T19:25:08.917854Z"
    }
   },
   "id": "22abb16a75d093ff",
   "execution_count": 39
  },
  {
   "cell_type": "code",
   "outputs": [],
   "source": [
    "crsp_m = crsp_m.loc[(crsp_m.primaryexch.isin(['N', 'A', 'Q'])) & \\\n",
    "                   (crsp_m.conditionaltype =='RW') & \\\n",
    "                   (crsp_m.tradingstatusflg =='A')]"
   ],
   "metadata": {
    "collapsed": false,
    "ExecuteTime": {
     "end_time": "2024-11-12T19:25:13.773928Z",
     "start_time": "2024-11-12T19:25:12.109900Z"
    }
   },
   "id": "f0a940c1e8fdff37",
   "execution_count": 40
  },
  {
   "cell_type": "code",
   "outputs": [],
   "source": [
    "# change variable format to int\n",
    "crsp_m[['permco','permno']]=crsp_m[['permco','permno']].astype(int)\n",
    "\n",
    "# Line up date to be end of month\n",
    "crsp_m['jdate']=crsp_m['mthcaldt']+MonthEnd(0)"
   ],
   "metadata": {
    "collapsed": false,
    "ExecuteTime": {
     "end_time": "2024-11-12T19:25:14.024839Z",
     "start_time": "2024-11-12T19:25:13.775042Z"
    }
   },
   "id": "d4b251eb1864610a",
   "execution_count": 41
  },
  {
   "cell_type": "code",
   "outputs": [],
   "source": [
    "# calculate market equity\n",
    "crsp = crsp_m.copy()\n",
    "\n",
    "crsp['mthret']=crsp['mthret'].fillna(0)\n",
    "crsp['mthretx']=crsp['mthretx'].fillna(0)\n",
    "crsp['me']=crsp['mthprc']*crsp['shrout'] \n",
    "crsp=crsp.drop(['mthprc','shrout'], axis=1)\n",
    "crsp=crsp.sort_values(by=['jdate','permco','me'])"
   ],
   "metadata": {
    "collapsed": false,
    "ExecuteTime": {
     "end_time": "2024-11-12T19:25:20.936249Z",
     "start_time": "2024-11-12T19:25:14.028495Z"
    }
   },
   "id": "b76706c8e06603be",
   "execution_count": 42
  },
  {
   "cell_type": "code",
   "outputs": [],
   "source": [
    "### Aggregate Market Cap ###\n",
    "# sum of me across different permno belonging to same permco a given date\n",
    "crsp_summe = crsp.groupby(['jdate','permco'])['me'].sum().reset_index()\n",
    "\n",
    "# largest mktcap within a permco/date\n",
    "crsp_maxme = crsp.groupby(['jdate','permco'])['me'].max().reset_index()\n",
    "\n",
    "# join by jdate/maxme to find the permno\n",
    "crsp1=pd.merge(crsp, crsp_maxme, how='inner', on=['jdate','permco','me'])\n",
    "\n",
    "# drop me column and replace with the sum me\n",
    "crsp1=crsp1.drop(['me'], axis=1)\n",
    "\n",
    "# join with sum of me to get the correct market cap info\n",
    "crsp2=pd.merge(crsp1, crsp_summe, how='inner', on=['jdate','permco'])\n",
    "\n",
    "# sort by permno and date and also drop duplicates\n",
    "crsp2=crsp2.sort_values(by=['permno','jdate']).drop_duplicates()"
   ],
   "metadata": {
    "collapsed": false,
    "ExecuteTime": {
     "end_time": "2024-11-12T19:25:41.658928Z",
     "start_time": "2024-11-12T19:25:20.939164Z"
    }
   },
   "id": "63fc3a21de7d0b53",
   "execution_count": 43
  },
  {
   "cell_type": "code",
   "outputs": [],
   "source": [
    "# keep December market cap\n",
    "crsp2['year']=crsp2['jdate'].dt.year\n",
    "crsp2['month']=crsp2['jdate'].dt.month\n",
    "decme=crsp2[crsp2['month']==12]\n",
    "decme=decme[['permno','mthcaldt','jdate','me','year']].rename(columns={'me':'dec_me'})\n",
    "\n",
    "### July to June dates\n",
    "crsp2['ffdate']=crsp2['jdate']+MonthEnd(-6)\n",
    "crsp2['ffyear']=crsp2['ffdate'].dt.year\n",
    "crsp2['ffmonth']=crsp2['ffdate'].dt.month\n",
    "crsp2['1+retx']=1+crsp2['mthretx']\n",
    "crsp2=crsp2.sort_values(by=['permno','mthcaldt'])"
   ],
   "metadata": {
    "collapsed": false,
    "ExecuteTime": {
     "end_time": "2024-11-12T19:25:44.264485Z",
     "start_time": "2024-11-12T19:25:41.661470Z"
    }
   },
   "id": "349e33333e962893",
   "execution_count": 44
  },
  {
   "cell_type": "code",
   "outputs": [],
   "source": [
    "# cumret by stock\n",
    "crsp2['cumretx']=crsp2.groupby(['permno','ffyear'])['1+retx'].cumprod()\n",
    "\n",
    "# lag cumret\n",
    "crsp2['lcumretx']=crsp2.groupby(['permno'])['cumretx'].shift(1)\n",
    "\n",
    "# lag market cap\n",
    "crsp2['lme']=crsp2.groupby(['permno'])['me'].shift(1)\n",
    "\n",
    "# if first permno then use me/(1+retx) to replace the missing value\n",
    "crsp2['count']=crsp2.groupby(['permno']).cumcount()\n",
    "crsp2['lme']=np.where(crsp2['count']==0, crsp2['me']/crsp2['1+retx'], crsp2['lme'])\n",
    "\n",
    "# baseline me\n",
    "mebase=crsp2[crsp2['ffmonth']==1][['permno','ffyear', 'lme']].rename(columns={'lme':'mebase'})\n",
    "\n",
    "# merge result back together\n",
    "crsp3=pd.merge(crsp2, mebase, how='left', on=['permno','ffyear'])\n",
    "crsp3['wt']=np.where(crsp3['ffmonth']==1, crsp3['lme'], crsp3['mebase']*crsp3['lcumretx'])\n",
    "\n",
    "decme['year']=decme['year']+1\n",
    "decme=decme[['permno','year','dec_me']]"
   ],
   "metadata": {
    "collapsed": false,
    "ExecuteTime": {
     "end_time": "2024-11-12T19:25:48.188760Z",
     "start_time": "2024-11-12T19:25:44.267461Z"
    }
   },
   "id": "8dcd79937c14441d",
   "execution_count": 45
  },
  {
   "cell_type": "code",
   "outputs": [],
   "source": [
    "# Info as of June\n",
    "crsp3_jun = crsp3[crsp3['month']==6]\n",
    "\n",
    "crsp_jun = pd.merge(crsp3_jun, decme, how='inner', on=['permno','year'])\n",
    "crsp_jun=crsp_jun[['permno','mthcaldt', 'jdate', 'sharetype', 'securitytype', 'securitysubtype', 'usincflg', 'issuertype', \\\n",
    "                   'primaryexch', 'conditionaltype', 'tradingstatusflg', \\\n",
    "                   'mthret','me','wt','cumretx','mebase','lme','dec_me']]\n",
    "crsp_jun=crsp_jun.sort_values(by=['permno','jdate']).drop_duplicates()"
   ],
   "metadata": {
    "collapsed": false,
    "ExecuteTime": {
     "end_time": "2024-11-12T19:25:53.654356Z",
     "start_time": "2024-11-12T19:25:48.191238Z"
    }
   },
   "id": "c96346b9f5eacd90",
   "execution_count": 46
  },
  {
   "cell_type": "code",
   "outputs": [],
   "source": [
    "#######################\n",
    "# CCM Block           #\n",
    "#######################\n",
    "ccm=conn.raw_sql(\"\"\"\n",
    "                  select gvkey, lpermno as permno, linktype, linkprim, \n",
    "                  linkdt, linkenddt\n",
    "                  from crsp.ccmxpf_linktable\n",
    "                  where substr(linktype,1,1)='L'\n",
    "                  and (linkprim ='C' or linkprim='P')\n",
    "                  \"\"\", date_cols=['linkdt', 'linkenddt'])\n",
    "\n",
    "# if linkenddt is missing then set to today date\n",
    "ccm['linkenddt']=ccm['linkenddt'].fillna(pd.to_datetime('today'))\n",
    "\n",
    "ccm1=pd.merge(comp[['gvkey','datadate','be', 'count']],ccm,how='left',on=['gvkey'])\n",
    "ccm1['yearend']=ccm1['datadate']+YearEnd(0)\n",
    "ccm1['jdate']=ccm1['yearend']+MonthEnd(6)"
   ],
   "metadata": {
    "collapsed": false,
    "ExecuteTime": {
     "end_time": "2024-11-12T19:25:55.536762Z",
     "start_time": "2024-11-12T19:25:53.664117Z"
    }
   },
   "id": "a5656f976ab14dc8",
   "execution_count": 47
  },
  {
   "cell_type": "code",
   "outputs": [],
   "source": [
    "# set link date bounds\n",
    "ccm2=ccm1[(ccm1['jdate']>=ccm1['linkdt'])&(ccm1['jdate']<=ccm1['linkenddt'])]\n",
    "ccm2=ccm2[['gvkey','permno','datadate','yearend', 'jdate','be', 'count']]\n",
    "\n",
    "# link comp and crsp\n",
    "ccm_jun=pd.merge(crsp_jun, ccm2, how='inner', on=['permno', 'jdate'])\n",
    "ccm_jun['beme']=ccm_jun['be']*1000/ccm_jun['dec_me']"
   ],
   "metadata": {
    "collapsed": false,
    "ExecuteTime": {
     "end_time": "2024-11-12T19:25:57.326938Z",
     "start_time": "2024-11-12T19:25:55.538171Z"
    }
   },
   "id": "6becd903e9ebce8",
   "execution_count": 48
  },
  {
   "cell_type": "code",
   "outputs": [],
   "source": [
    "# select NYSE stocks for bucket breakdown\n",
    "# legacy data format: exchcd = 1 and positive beme and positive me and shrcd in (10,11) and at least 2 years in comp\n",
    "# new CIZ format: primaryexch == 'N', positive beme, positive me, at least 2 years in comp\n",
    "# shrcd in 10 and 11 is already handled in the code earlier\n",
    "\n",
    "nyse=ccm_jun[(ccm_jun['primaryexch']=='N') & (ccm_jun['beme']>0) & (ccm_jun['me']>0) & \\\n",
    "             (ccm_jun['count']>=1)]\n",
    "\n",
    "# size breakdown\n",
    "nyse_sz=nyse.groupby(['jdate'])['me'].median().to_frame().reset_index().rename(columns={'me':'sizemedn'})\n",
    "\n",
    "# beme breakdown\n",
    "nyse_bm=nyse.groupby(['jdate'])['beme'].describe(percentiles=[0.3, 0.7]).reset_index()\n",
    "nyse_bm=nyse_bm[['jdate','30%','70%']].rename(columns={'30%':'bm30', '70%':'bm70'})\n",
    "\n",
    "nyse_breaks = pd.merge(nyse_sz, nyse_bm, how='inner', on=['jdate'])\n",
    "\n",
    "# join back size and beme breakdown\n",
    "ccm1_jun = pd.merge(ccm_jun, nyse_breaks, how='left', on=['jdate'])"
   ],
   "metadata": {
    "collapsed": false,
    "ExecuteTime": {
     "end_time": "2024-11-12T19:26:04.775163Z",
     "start_time": "2024-11-12T19:25:57.328993Z"
    }
   },
   "id": "27a5de93991ff35f",
   "execution_count": 49
  },
  {
   "cell_type": "code",
   "outputs": [],
   "source": [
    "# function to assign sz and bm bucket\n",
    "def sz_bucket(row):\n",
    "    if row['me']==np.nan:\n",
    "        value=''\n",
    "    elif row['me']<=row['sizemedn']:\n",
    "        value='S'\n",
    "    else:\n",
    "        value='B'\n",
    "    return value\n",
    "\n",
    "def bm_bucket(row):\n",
    "    if 0<=row['beme']<=row['bm30']:\n",
    "        value = 'L'\n",
    "    elif row['beme']<=row['bm70']:\n",
    "        value='M'\n",
    "    elif row['beme']>row['bm70']:\n",
    "        value='H'\n",
    "    else:\n",
    "        value=''\n",
    "    return value"
   ],
   "metadata": {
    "collapsed": false,
    "ExecuteTime": {
     "end_time": "2024-11-12T19:26:04.784074Z",
     "start_time": "2024-11-12T19:26:04.778028Z"
    }
   },
   "id": "4b61ed60ca0670f8",
   "execution_count": 50
  },
  {
   "cell_type": "code",
   "outputs": [],
   "source": [
    "# assign size portfolio\n",
    "ccm1_jun['szport']=np.where((ccm1_jun['beme']>0)&(ccm1_jun['me']>0)&(ccm1_jun['count']>=1), ccm1_jun.apply(sz_bucket, axis=1), '')\n",
    "\n",
    "# assign book-to-market portfolio\n",
    "ccm1_jun['bmport']=np.where((ccm1_jun['beme']>0)&(ccm1_jun['me']>0)&(ccm1_jun['count']>=1), ccm1_jun.apply(bm_bucket, axis=1), '')\n",
    "\n",
    "# create positivebmeme and nonmissport variable\n",
    "ccm1_jun['posbm']=np.where((ccm1_jun['beme']>0)&(ccm1_jun['me']>0)&(ccm1_jun['count']>=1), 1, 0)\n",
    "ccm1_jun['nonmissport']=np.where((ccm1_jun['bmport']!=''), 1, 0)"
   ],
   "metadata": {
    "collapsed": false,
    "ExecuteTime": {
     "end_time": "2024-11-12T19:26:23.767601Z",
     "start_time": "2024-11-12T19:26:04.785603Z"
    }
   },
   "id": "447ed394354708eb",
   "execution_count": 51
  },
  {
   "cell_type": "code",
   "outputs": [
    {
     "name": "stderr",
     "output_type": "stream",
     "text": [
      "/var/folders/jy/_2t8f9sx1hs8nmxchkp2wrhc0000gn/T/ipykernel_56617/2840514824.py:3: SettingWithCopyWarning: \n",
      "A value is trying to be set on a copy of a slice from a DataFrame.\n",
      "Try using .loc[row_indexer,col_indexer] = value instead\n",
      "\n",
      "See the caveats in the documentation: https://pandas.pydata.org/pandas-docs/stable/user_guide/indexing.html#returning-a-view-versus-a-copy\n",
      "  june['ffyear']=june['jdate'].dt.year\n"
     ]
    }
   ],
   "source": [
    "# store portfolio assignment as of June\n",
    "june=ccm1_jun[['permno','mthcaldt', 'jdate', 'bmport','szport','posbm','nonmissport', 'beme']]\n",
    "june['ffyear']=june['jdate'].dt.year\n",
    "\n",
    "# merge back with monthly records\n",
    "crsp3 = crsp3[['mthcaldt','permno', 'sharetype', 'securitytype', 'securitysubtype', 'usincflg', 'issuertype', \\\n",
    "               'primaryexch', 'conditionaltype', 'tradingstatusflg', \\\n",
    "               'mthret', 'me','wt','cumretx','ffyear','jdate']]\n",
    "ccm3=pd.merge(crsp3, \n",
    "        june[['permno','ffyear','szport','bmport','posbm','nonmissport', 'beme']], how='left', on=['permno','ffyear'])\n",
    "\n",
    "# keeping only records that meet the criteria\n",
    "ccm4=ccm3[(ccm3['wt']>0)& (ccm3['posbm']==1) & (ccm3['nonmissport']==1)]"
   ],
   "metadata": {
    "collapsed": false,
    "ExecuteTime": {
     "end_time": "2024-11-12T19:30:13.895345Z",
     "start_time": "2024-11-12T19:30:01.632647Z"
    }
   },
   "id": "f923497eeba90c49",
   "execution_count": 53
  },
  {
   "cell_type": "code",
   "outputs": [],
   "source": [
    "ccm4 = ccm4[ccm4['beme'] < 10]"
   ],
   "metadata": {
    "collapsed": false,
    "ExecuteTime": {
     "end_time": "2024-11-12T19:56:06.392489Z",
     "start_time": "2024-11-12T19:56:04.865125Z"
    }
   },
   "id": "e0bdfcddcec452d9",
   "execution_count": 67
  },
  {
   "cell_type": "code",
   "outputs": [],
   "source": [
    "ccm4.to_parquet('data/market_data.parquet')"
   ],
   "metadata": {
    "collapsed": false,
    "ExecuteTime": {
     "end_time": "2024-11-12T19:56:14.053971Z",
     "start_time": "2024-11-12T19:56:06.394067Z"
    }
   },
   "id": "6191249a17f33de2",
   "execution_count": 68
  },
  {
   "cell_type": "code",
   "outputs": [
    {
     "name": "stdout",
     "output_type": "stream",
     "text": [
      "        caldt    vwretd    vwretx    ewretd    ewretx       totval  totcnt  \\\n",
      "0  1959-01-02  0.004463  0.004463  0.005808  0.005808  232599528.0     500   \n",
      "1  1959-01-05  0.003639  0.003639  0.003685  0.003685  233503292.0     500   \n",
      "2  1959-01-06 -0.000999 -0.001079  0.000246  0.000062  233251283.0     500   \n",
      "3  1959-01-07 -0.012449 -0.012466 -0.010053 -0.010107  230343665.0     500   \n",
      "4  1959-01-08  0.009794  0.009794  0.009999  0.009999  228760709.0     500   \n",
      "\n",
      "        usdval  usdcnt  spindx  sprtrn  \n",
      "0  231566030.0     498     NaN     NaN  \n",
      "1  232599528.0     498     NaN     NaN  \n",
      "2  233503292.0     499     NaN     NaN  \n",
      "3  233251283.0     499     NaN     NaN  \n",
      "4  226542062.0     497     NaN     NaN  \n"
     ]
    }
   ],
   "source": [
    "start_date = '1959-01-01'\n",
    "end_date = '2024-12-31'\n",
    "\n",
    "query = f\"\"\"\n",
    "    SELECT *\n",
    "    FROM crsp.dsp500\n",
    "    WHERE caldt BETWEEN '{start_date}' AND '{end_date}'\n",
    "\"\"\"\n",
    "\n",
    "# Execute the query\n",
    "sp500_index_data = conn.raw_sql(query)\n",
    "sp500_index_data.to_parquet('data/sp500_index_data.parquet')"
   ],
   "metadata": {
    "collapsed": false,
    "ExecuteTime": {
     "end_time": "2024-11-13T04:26:22.629123Z",
     "start_time": "2024-11-13T04:26:22.049016Z"
    }
   },
   "id": "e06dc7c82042cd8d",
   "execution_count": 9
  }
 ],
 "metadata": {
  "kernelspec": {
   "display_name": "Python 3",
   "language": "python",
   "name": "python3"
  },
  "language_info": {
   "codemirror_mode": {
    "name": "ipython",
    "version": 2
   },
   "file_extension": ".py",
   "mimetype": "text/x-python",
   "name": "python",
   "nbconvert_exporter": "python",
   "pygments_lexer": "ipython2",
   "version": "2.7.6"
  }
 },
 "nbformat": 4,
 "nbformat_minor": 5
}
